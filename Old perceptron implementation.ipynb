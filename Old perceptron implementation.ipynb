{
 "cells": [
  {
   "cell_type": "code",
   "execution_count": null,
   "id": "c539a652",
   "metadata": {},
   "outputs": [],
   "source": [
    "class Perceptron:\n",
    "    def __init__(self, learningRate = 0.01, n_iters = 1000):\n",
    "        self.learningRate = learningRate\n",
    "        self.n_iters = n_iters\n",
    "        self.weights = None\n",
    "        self.bias = None\n",
    "        \n",
    "    def fit(self, inputData, labelData):\n",
    "        numSamples, numFeatures = inputData.shape\n",
    "        self.weights = np.zeros(numFeatures)\n",
    "        self.bias = 0\n",
    "        \n",
    "        #labelData_ = np.where(labelData > 0, 1, 0)\n",
    "        \n",
    "        \n",
    "        for _ in range(self.n_iters):\n",
    "            for idx, x_i in enumerate(inputData):\n",
    "                linearOutput = np.dot(x_i, self.weights) + self.bias\n",
    "                prediction = self._activation_function(linearOutput)\n",
    "                \n",
    "                update = self.learningRate * (labelData[idx] - prediction)\n",
    "                self.weights += update * x_i\n",
    "                self.bias += update\n",
    "                \n",
    "                \n",
    "    def predict(self, inputData):\n",
    "        linearOutput = np.dot(inputData, self.weights) + self.bias\n",
    "        pred = self._activation_function(linearOutput)\n",
    "        return pred\n",
    "    \n",
    "    def _activation_function(self, inputData):\n",
    "        return np.where(inputData >= 0, 1, -1)"
   ]
  }
 ],
 "metadata": {
  "kernelspec": {
   "display_name": "Python [conda env:ml-env] *",
   "language": "python",
   "name": "conda-env-ml-env-py"
  },
  "language_info": {
   "codemirror_mode": {
    "name": "ipython",
    "version": 3
   },
   "file_extension": ".py",
   "mimetype": "text/x-python",
   "name": "python",
   "nbconvert_exporter": "python",
   "pygments_lexer": "ipython3",
   "version": "3.8.19"
  }
 },
 "nbformat": 4,
 "nbformat_minor": 5
}
